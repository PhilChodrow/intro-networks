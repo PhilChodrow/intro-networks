{
 "cells": [
  {
   "cell_type": "markdown",
   "metadata": {},
   "source": [
    "# Coding Practice: Agent-Based Modeling\n",
    "\n",
    "In this notebook, we'll code up the simple random walk and PageRank random walk using the mesa framework for agent-based modeling. All the code in these notebooks (as well as outputs) can be found in the [online lecture notes](https://www.philchodrow.com/intro-networks/chapters/agent_based_modeling.html#first-example-simple-random-walk). \n",
    "\n",
    "Because we're going to be focusing on the agent-based modeling angle, I've pre-populated some of the boiler plate code for you. "
   ]
  },
  {
   "cell_type": "code",
   "execution_count": null,
   "metadata": {},
   "outputs": [],
   "source": [
    "from mesa import Model, Agent                 # core mesa classes\n",
    "from mesa.space import NetworkGrid             \n",
    "from mesa.time import BaseScheduler           \n",
    "from mesa.datacollection import DataCollector\n",
    "\n",
    "import networkx as nx                         # for the grid\n",
    "import numpy as np                            # computations\n",
    "from matplotlib import pyplot as plt          # visualizing output"
   ]
  },
  {
   "cell_type": "code",
   "execution_count": null,
   "metadata": {},
   "outputs": [],
   "source": [
    "G = nx.les_miserables_graph()"
   ]
  },
  {
   "cell_type": "markdown",
   "metadata": {},
   "source": [
    "First, we'll define our model. "
   ]
  },
  {
   "cell_type": "code",
   "execution_count": null,
   "metadata": {},
   "outputs": [],
   "source": [
    "\n",
    "\n",
    "    # model setup\n",
    "    \n",
    "\n",
    "        # time structure\n",
    "        # space structure\n",
    "        \n",
    "        # create a single agent who will walk around the graph\n",
    "        # we haven't defined SWRAgent yet\n",
    "        # the agent has a name and is associated to the model\n",
    "        \n",
    "\n",
    "        # place the agent at a random node on the graph\n",
    "\n",
    "        # place the agent into the schedule\n",
    "\n",
    "        # data collection. Here we're just going to collect the \n",
    "        # current position of each agent\n",
    "\n",
    "    # this is where a timestep actually happens\n",
    "    # once we've set up the model's __init__() method\n",
    "    # and the step() method of the agent class, \n",
    "    # this is one is usually pretty simple\n",
    "    "
   ]
  },
  {
   "cell_type": "markdown",
   "metadata": {},
   "source": [
    "Notice that the model includes placing a single agent on the grid, but we haven't actually defined any agents. So, that needs to be our next step. We've deliberately allowed the model to accept agents of different kinds; here we'll implement an agent that performs the simple random walk behavior. "
   ]
  },
  {
   "cell_type": "code",
   "execution_count": null,
   "metadata": {},
   "outputs": [],
   "source": [
    "\n",
    "        # find all possible next steps\n",
    "        # include_center determines whether or not we count the \n",
    "        # current position as a possibility\n",
    "\n",
    "        # pick a random one and go there\n",
    "        "
   ]
  },
  {
   "cell_type": "markdown",
   "metadata": {},
   "source": [
    "Now we can simulate our model! We instantiate a model using the graph, specifying that we want the single agent to be an `SRWAgent`. "
   ]
  },
  {
   "cell_type": "code",
   "execution_count": null,
   "metadata": {},
   "outputs": [],
   "source": [
    "model = RWModel(G, SRWAgent)\n",
    "\n",
    "for i in range(100000):\n",
    "    model.step()"
   ]
  },
  {
   "cell_type": "markdown",
   "metadata": {},
   "source": [
    "We can get a report of where the walker was at each time step: "
   ]
  },
  {
   "cell_type": "code",
   "execution_count": null,
   "metadata": {},
   "outputs": [],
   "source": [
    "walk_report = model.collector.get_agent_vars_dataframe()\n",
    "walk_report.head()"
   ]
  },
  {
   "cell_type": "markdown",
   "metadata": {},
   "source": [
    "This allows us to compute the proportion of time the walker spent at each node: "
   ]
  },
  {
   "cell_type": "code",
   "execution_count": null,
   "metadata": {},
   "outputs": [],
   "source": [
    "counts = walk_report.groupby(\"node\").size()\n",
    "freqs = counts / sum(counts)\n",
    "freqs"
   ]
  },
  {
   "cell_type": "markdown",
   "metadata": {},
   "source": [
    "Let's finally compare this to the theoretical prediction that the amount of time spent at a node should be proportional to the node's degree: "
   ]
  },
  {
   "cell_type": "code",
   "execution_count": null,
   "metadata": {},
   "outputs": [],
   "source": [
    "degs = [G.degree(i) for i in freqs.index]\n",
    "stationary_dist = degs / np.sum(degs)\n",
    "\n",
    "plt.plot([0, .12], \n",
    "         [0, .12], \n",
    "         color = \"black\", label = \"prediction\")\n",
    "\n",
    "plt.scatter(stationary_dist, \n",
    "            freqs, \n",
    "            zorder = 100, label = \"ABM\")\n",
    "\n",
    "plt.gca().set(xlabel = r\"$\\frac{k_i}{2m}$\", \n",
    "              ylabel = \"% of time spent on node\")\n",
    "\n",
    "plt.legend()"
   ]
  },
  {
   "cell_type": "markdown",
   "metadata": {},
   "source": [
    "Because we allowed our model to accept different kinds of agents, we can implement a PageRank random walk simply by implementing a new agent class: "
   ]
  },
  {
   "cell_type": "code",
   "execution_count": null,
   "metadata": {},
   "outputs": [],
   "source": []
  },
  {
   "cell_type": "markdown",
   "metadata": {},
   "source": [
    "We could compare the PR random walk behavior to the leading eigenvector of the PageRank transition matrix, but instead let's just compute it and then draw it on the graph: "
   ]
  },
  {
   "cell_type": "code",
   "execution_count": null,
   "metadata": {},
   "outputs": [],
   "source": [
    "pagerank_model = RWModel(G, PageRankAgent, alpha = 0.15)\n",
    "\n",
    "for i in range(100000):\n",
    "    pagerank_model.step()\n"
   ]
  },
  {
   "cell_type": "code",
   "execution_count": null,
   "metadata": {},
   "outputs": [],
   "source": [
    "walk_report = pagerank_model.collector.get_agent_vars_dataframe()\n",
    "\n",
    "counts = walk_report.groupby(\"node\").size()\n",
    "freqs  = counts / np.sum(counts)\n",
    "\n",
    "nx.draw(G, \n",
    "        node_size = [2000*freqs[i] for i in G.nodes], \n",
    "        edge_color = \"grey\")"
   ]
  }
 ],
 "metadata": {
  "interpreter": {
   "hash": "33f22fb245a0cb1da3e9fd94033b76d9c7261952045c7c40a897050a41b97b67"
  },
  "kernelspec": {
   "display_name": "Python 3.8.13 ('teaching')",
   "language": "python",
   "name": "python3"
  },
  "language_info": {
   "codemirror_mode": {
    "name": "ipython",
    "version": 3
   },
   "file_extension": ".py",
   "mimetype": "text/x-python",
   "name": "python",
   "nbconvert_exporter": "python",
   "pygments_lexer": "ipython3",
   "version": "3.8.13"
  },
  "orig_nbformat": 4
 },
 "nbformat": 4,
 "nbformat_minor": 2
}
