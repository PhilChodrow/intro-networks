{
 "cells": [
  {
   "cell_type": "markdown",
   "id": "9e6848d7-c08b-477c-9390-ba9bc5b9edf3",
   "metadata": {},
   "source": [
    "# Agent-Based SIS Model on Networks\n",
    "\n",
    "In this coding activity, we'll implement an agent-based model of the spread of infectious disease on networks. You can learn more about the theory of models like these from the [lecture notes](http://www.philchodrow.com/intro-networks/chapters/multi_agent_models.html#epidemic-modeling) and in Newman, Chapter 14. \n",
    "\n",
    "We're going to focus on the **SIS model**. \n",
    "\n",
    "The SIS model is one of many *compartmental* models of spreading processes on networks. Unlike the opinion models we studied above, in which each agent's state is a continuous variable $x_i \\in [-1, 1]$, in compartmental models, each agent can be in one of several *discrete* states, called compartments. Think of each compartment as a qualitative status. In the SIS model, there are two compartments: \n",
    "\n",
    "- **Susceptible (S)**: The agent is not currently infected with disease, but you could be in the future. \n",
    "- **Infected (I)**: The agent is currently infected with disease, and can spread it to others. \n",
    "\n",
    "Modern compartmental models include many more compartments than this. One can also include compartments for **Immune**, **Infected (pre-symptomatic)**, etc. etc. Unfortunately for us, the model above in which immunity is never guaranteed seems like a more relevant one at the moment. \n",
    "\n",
    "\"SIS\" stands for \"Susceptible-Infected-Susceptible.\" This means that an agent who recovers from an infection is again susceptible. We'll consider a stochastic SIS model with the following transition rules. \n",
    "\n",
    "1. If agent $i$ is currently *Susceptible*, then for each *Infected* neighbor of $i$, agent $i$ flips a coin with probability of heads $\\beta$. If any of these coins come up heads, then $i$ also becomes *Infected*. \n",
    "2. Additionally, if agent $i$ is currently *Susceptible*, then they also flip a coin with probability of heads $\\beta_\\mathrm{background}$, and become *Infected* if *this* coin comes up heads. The background infection rate models contacts with people outside the network data. \n",
    "2. If $i$ is currently *Infected*, then $i$ flips a coin with probability of heads $\\gamma$. If this coin comes up heads, then $i$ recovers and is now *Susceptible* again. \n",
    "\n",
    "Ok, let's code it up! \n"
   ]
  },
  {
   "cell_type": "code",
   "execution_count": null,
   "id": "f1a796f7-c831-4431-b54d-dc60f3fa7572",
   "metadata": {},
   "outputs": [],
   "source": [
    "from mesa import Model, Agent                 # core mesa classes\n",
    "from mesa.space import NetworkGrid             \n",
    "from mesa.time import SimultaneousActivation           \n",
    "from mesa.datacollection import DataCollector\n",
    "\n",
    "import networkx as nx                         # for the grid\n",
    "import numpy as np                            # computations\n",
    "import seaborn as sns                         # install the seaborn package in your Python environment if this line doesn't run. \n",
    "from matplotlib import pyplot as plt"
   ]
  },
  {
   "cell_type": "markdown",
   "id": "c3c7d41e-d561-47d7-946f-cbdc887d8cfc",
   "metadata": {},
   "source": [
    "Epidemic models and opinion models are relatively similar, and so the `CompartmentalModel` of epidemic spread is *extremely* similar to the `OpinionModel` that we created previously. "
   ]
  },
  {
   "cell_type": "code",
   "execution_count": null,
   "id": "2298f650-1f0a-4be2-bbff-e857ff004c05",
   "metadata": {},
   "outputs": [],
   "source": [
    "class CompartmentalModel(Model):\n",
    "\n",
    "    # model setup\n",
    "    def __init__(self, G, agent_class, p_infected = 0, beta = 0, beta_background = 0, **kwargs):\n",
    "\n",
    "        self.schedule = SimultaneousActivation(self) \n",
    "        self.grid = NetworkGrid(G)            \n",
    "        self.beta = beta\n",
    "        self.beta_background = beta_background\n",
    "\n",
    "        node_list = list(G.nodes)\n",
    "\n",
    "        # place multiple agents, each with an initial opinion\n",
    "        for i in range(len(node_list)):\n",
    "            node = node_list[i]\n",
    "            state = \"I\" if np.random.rand() < p_infected else \"S\"\n",
    "            agent = agent_class(node, self, state, **kwargs)\n",
    "            self.grid.place_agent(agent, node)\n",
    "            self.schedule.add(agent)\n",
    "\n",
    "        self.collector = DataCollector(\n",
    "            agent_reporters = {\n",
    "                \"State\" : lambda a: a.state\n",
    "            }\n",
    "        )\n",
    "\n",
    "    def step(self):\n",
    "        self.schedule.step()\n",
    "        self.collector.collect(self)"
   ]
  },
  {
   "cell_type": "markdown",
   "id": "fb64f374-c640-44f6-b932-84fe438d179b",
   "metadata": {},
   "source": [
    "The `CompartmentalAgent` class is very similar as well. The big difference is that now we assume that the agent has an instance variable called `state`, which describes which of the Susceptible-Infected compartments the agent is in. We can separate out the update function F so that we can implement it on its own. "
   ]
  },
  {
   "cell_type": "code",
   "execution_count": null,
   "id": "a55c5b7d-8fef-4a47-ae76-63e5731f2975",
   "metadata": {},
   "outputs": [],
   "source": [
    "class CompartmentalAgent(Agent):\n",
    "\n",
    "    def __init__(self, agent_id, model, state, F, **kwargs):\n",
    "        super().__init__(agent_id, model)\n",
    "        self.state = state\n",
    "        self.F = F\n",
    "        self.kwargs = kwargs\n",
    "\n",
    "    def step(self):\n",
    "\n",
    "        neighbor_locs = self.model.grid.get_neighbors(self.pos, \n",
    "                                                      include_center = False)\n",
    "\n",
    "        neighbors = self.model.grid.get_cell_list_contents(neighbor_locs)\n",
    "        self.state_next = self.F(self, neighbors, self.model.beta, self.model.beta_background, **self.kwargs)\n",
    "\n",
    "    def advance(self):\n",
    "        self.state = self.state_next"
   ]
  },
  {
   "cell_type": "markdown",
   "id": "1b2fac4a-c0a2-4116-b176-4f1b0d32c51d",
   "metadata": {},
   "source": [
    "Now we're ready to implement the update logic in our function `F_SIS`. As a reminder, here's what should happen: \n",
    "\n",
    "1. If agent $i$ is currently *Susceptible*, then for each *Infected* neighbor of $i$, agent $i$ flips a coin with probability of heads $\\beta$. If any of these coins come up heads, then $i$ also becomes *Infected*. \n",
    "2. Additionally, if agent $i$ is currently *Susceptible*, then they also flip a coin with probability of heads $\\beta_\\mathrm{background}$, and become *Infected* if *this* coin comes up heads. The background infection rate models contacts with people outside the network data. \n",
    "2. If $i$ is currently *Infected*, then $i$ flips a coin with probability of heads $\\gamma$. If this coin comes up heads, then $i$ recovers and is now *Susceptible* again. \n"
   ]
  },
  {
   "cell_type": "code",
   "execution_count": null,
   "id": "0f76f770-2cb7-4fe3-b549-6c16f70b40bb",
   "metadata": {},
   "outputs": [],
   "source": [
    "def F_SIS(center, neighbors, beta = 0.01, beta_background = 0.0001, gamma = 0.1):\n",
    "    \n",
    "    # FILL IN"
   ]
  },
  {
   "cell_type": "markdown",
   "id": "3d996281-ead9-47ec-9b62-4bd1c84b437a",
   "metadata": {},
   "source": [
    "Now we can do a single run of our model: "
   ]
  },
  {
   "cell_type": "code",
   "execution_count": null,
   "id": "eb303a4f-f6ef-4793-8c7d-7049f0a2c464",
   "metadata": {},
   "outputs": [],
   "source": [
    "G = nx.les_miserables_graph()\n",
    "\n",
    "model = CompartmentalModel(G, CompartmentalAgent, p_infected = 0.01,  F = F_SIS, beta = 0.01, beta_background = 0.001, gamma = 0.1)\n",
    "\n",
    "for i in range(1000):\n",
    "    model.step()\n",
    "\n",
    "report = model.collector.get_agent_vars_dataframe().reset_index()\n",
    "report[\"is_I\"] = report[\"State\"] == \"I\"\n",
    "percentages = report.groupby(\"Step\")[\"is_I\"].mean()\n",
    "fig = plt.plot(percentages)"
   ]
  },
  {
   "cell_type": "markdown",
   "id": "cbe9827e-ccd4-40df-800a-cd094ec69a4e",
   "metadata": {},
   "source": [
    "# Effect of Policy\n",
    "\n",
    "Suppose now that we consider a decision-maker with the ability to reduce the rate of transmission through measures such as mask mandates, shelter-in-place orders, or similar measures. We're going to model this as saying that the decision-maker has the ability to control the transmission rate $\\beta$. We're going to assume that they impose mitigation measures when they observe a rate of infection above a certain point, and remove these mitigation measures when they observe a rate of infection below a certain point. However, we're going to assume that their information is *lagged*: their most recent data is actually $k$ days in the past. We're going to study what the impact of $k$ is. \n",
    "\n",
    "The way we implement this behavior in code is by having the model *change* $\\beta$ when it observes the (lagged) data telling it that this is possible. This requires only that we (a) store the possible values of $\\beta$ as instance variables and (b) that we add some additional behavior to the model's `step()` method to toggle between the two of them. "
   ]
  },
  {
   "cell_type": "code",
   "execution_count": null,
   "id": "540d78b6-a4d5-4b37-a02f-4024041fe740",
   "metadata": {},
   "outputs": [],
   "source": [
    "class CompartmentalModel(Model):\n",
    "\n",
    "    # model setup\n",
    "    def __init__(self, G, agent_class, p_infected = 0, beta_background = 0, beta_low = 0, beta_high = 1, threshold = 0.2, lag = 0, **kwargs):\n",
    "\n",
    "        self.schedule = SimultaneousActivation(self) \n",
    "        self.grid = NetworkGrid(G)            \n",
    "        self.beta = beta_high\n",
    "        self.beta_low = beta_low\n",
    "        self.beta_high = beta_high\n",
    "        self.beta_background = beta_background\n",
    "        self.threshold = threshold\n",
    "        self.lag = lag\n",
    "        self.history = []\n",
    "\n",
    "        node_list = list(G.nodes)\n",
    "\n",
    "        # place multiple agents, each with an initial opinion\n",
    "        for i in range(len(node_list)):\n",
    "            node = node_list[i]\n",
    "            state = \"I\" if np.random.rand() < p_infected else \"S\"\n",
    "            agent = agent_class(node, self, state, **kwargs)\n",
    "            self.grid.place_agent(agent, node)\n",
    "            self.schedule.add(agent)\n",
    "\n",
    "        self.collector = DataCollector(\n",
    "            agent_reporters = {\n",
    "                \"State\" : lambda a: a.state\n",
    "            }\n",
    "        )\n",
    "\n",
    "    def step(self):\n",
    "        self.schedule.step()\n",
    "        self.collector.collect(self)\n",
    "        \n",
    "        # FILL IN\n"
   ]
  },
  {
   "cell_type": "code",
   "execution_count": null,
   "id": "92a0f693-d216-4725-a9a4-82e691fde8a3",
   "metadata": {},
   "outputs": [],
   "source": [
    "def experiment(lag):\n",
    "\n",
    "    G = nx.les_miserables_graph()\n",
    "\n",
    "    model = CompartmentalModel(G, CompartmentalAgent, p_infected = 0.01,  F = F_SIS, beta_low = 0.01, beta_high = 0.03, beta_background = 0.001, gamma = 0.1, threshold = 0.05, lag = lag)\n",
    "\n",
    "    for i in range(500):\n",
    "        model.step()\n",
    "\n",
    "    report = model.collector.get_agent_vars_dataframe().reset_index()\n",
    "    report[\"is_I\"] = report[\"State\"] == \"I\"\n",
    "    percentages = report.groupby(\"Step\")[\"is_I\"].mean()\n",
    "    return(percentages)"
   ]
  },
  {
   "cell_type": "code",
   "execution_count": null,
   "id": "9d215610-259f-4d76-98af-44bb974b46a7",
   "metadata": {},
   "outputs": [],
   "source": [
    "fig, axarr = plt.subplots(5, figsize = (5, 8))\n",
    "\n",
    "lags = [0, 10, 20, 30, 40]\n",
    "\n",
    "for i in range(5):\n",
    "    percentages = experiment(lags[i])\n",
    "    axarr[i].plot([0, 500], [0.05, 0.05], color = \"grey\", zorder = -10, alpha = 0.3)\n",
    "    axarr[i].plot(percentages) \n",
    "    axarr[i].set_ylim([0, .5])\n",
    "    mean_perc = np.round(100*np.mean(percentages), 1)\n",
    "    axarr[i].set(title = f\"Lag: {lags[i]} days, mean infection level = {mean_perc}%\")\n",
    "    axarr[i].set(ylabel = \"% Infected\")\n",
    "plt.tight_layout()"
   ]
  }
 ],
 "metadata": {
  "kernelspec": {
   "display_name": "Python [conda env:teaching] *",
   "language": "python",
   "name": "conda-env-teaching-py"
  },
  "language_info": {
   "codemirror_mode": {
    "name": "ipython",
    "version": 3
   },
   "file_extension": ".py",
   "mimetype": "text/x-python",
   "name": "python",
   "nbconvert_exporter": "python",
   "pygments_lexer": "ipython3",
   "version": "3.8.13"
  }
 },
 "nbformat": 4,
 "nbformat_minor": 5
}
