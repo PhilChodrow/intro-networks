{
 "cells": [
  {
   "cell_type": "markdown",
   "metadata": {},
   "source": [
    "# Programming Demo: Opinion Models \n",
    "\n",
    "In this notebook, we'll code up some variations on the consensus dynamics model that we discussed in lecture. We'll again be using the Mesa framework. From a programming perspective, we're going to be demonstrating a few different things: \n",
    "\n",
    "- Models with multiple agents. \n",
    "- Models with multiple **types** of agents. \n",
    "- Synchronous schedulers, which cause all agents to interact simultaneously. \n",
    "\n",
    "Let's get started! "
   ]
  },
  {
   "cell_type": "code",
   "execution_count": 1,
   "metadata": {},
   "outputs": [],
   "source": [
    "from mesa import Model, Agent                 # core mesa classes\n",
    "from mesa.space import NetworkGrid             \n",
    "from mesa.time import SimultaneousActivation           \n",
    "from mesa.datacollection import DataCollector\n",
    "\n",
    "import networkx as nx                         # for the grid\n",
    "import numpy as np                            # computations\n",
    "import seaborn as sns                         # install the seaborn package in your Python environment if this line doesn't run. \n",
    "from matplotlib import pyplot as plt"
   ]
  },
  {
   "cell_type": "markdown",
   "metadata": {},
   "source": [
    "Like last time, the first thing we are going to do is define a *model* class. The model describes the overall system, and primarily handles setup: putting agents in the right place, initializing their parameters, adding them to the schedule, etc. \n",
    "\n",
    "A nice thing about using a framework like Mesa: this model is pretty similar to the random walk and PageRank models we discussed previously! The main difference is in the addition of multiple agents to the grid, and with the use of the `SimultaneousActivation` scheduler that allows all agents to act simultaneously. \n",
    "\n",
    "I encourage you to study this implementation and compare it to the one we did previously. "
   ]
  },
  {
   "cell_type": "code",
   "execution_count": null,
   "metadata": {},
   "outputs": [],
   "source": [
    "class OpinionModel(Model):\n",
    "\n",
    "    # model setup\n",
    "    def __init__(self, G, agent_class, x0 = None, beta = None, **kwargs):\n",
    "\n",
    "        self.schedule = SimultaneousActivation(self) \n",
    "        self.grid = NetworkGrid(G)            \n",
    "        \n",
    "        assert len(x0) == len(G.nodes)\n",
    "        assert len(beta) == len(G.nodes)\n",
    "\n",
    "        node_list = list(G.nodes)\n",
    "\n",
    "        # place multiple agents, each with an initial opinion\n",
    "        for i in range(len(x0)):\n",
    "            node = node_list[i]\n",
    "            agent = agent_class(node, self, x = x0[i], beta = beta[i], **kwargs)\n",
    "            self.grid.place_agent(agent, node)\n",
    "            self.schedule.add(agent)\n",
    "\n",
    "        self.collector = DataCollector(\n",
    "            agent_reporters = {\n",
    "                \"Opinion\" : lambda a: a.x\n",
    "            }\n",
    "        )\n",
    "\n",
    "    def step(self):\n",
    "        self.schedule.step()\n",
    "        self.collector.collect(self)"
   ]
  },
  {
   "cell_type": "markdown",
   "metadata": {},
   "source": [
    "Now let's implement the agent class we'll use for the demonstration. Our agent class is intentionally designed to be pretty flexible. Every agent has an opinion $x$, an update function $F$, and some additional parameters that can be passed to the update function. "
   ]
  },
  {
   "cell_type": "code",
   "execution_count": null,
   "metadata": {},
   "outputs": [],
   "source": [
    "class OpinionAgent(Agent):\n",
    "\n",
    "    def __init__(self, agent_id, model, x, F, **kwargs):\n",
    "        super().__init__(agent_id, model)\n",
    "        self.x = x\n",
    "        self.kwargs = kwargs\n",
    "        self.F = F\n",
    "\n",
    "    def step(self):\n",
    "\n",
    "        # TO FILL IN\n",
    "\n",
    "    # this method is required by the synchronous scheduler\n",
    "    # this is where each node actually changes its opinion. \n",
    "    def advance(self):\n",
    "        self.x = self.x_next"
   ]
  },
  {
   "cell_type": "markdown",
   "metadata": {},
   "source": [
    "We're *almost* done with our model implementation! In order to implement a given model, we need to specify the function $F$. Let's code up the update for consensus dynamics: "
   ]
  },
  {
   "cell_type": "code",
   "execution_count": null,
   "metadata": {},
   "outputs": [],
   "source": [
    "def F_consensus(center, neighbors, beta = 1):\n",
    "    # TO FILL IN"
   ]
  },
  {
   "cell_type": "markdown",
   "metadata": {},
   "source": [
    "The next function performs a simulation for 1,000 timesteps and plots the evolution of each node's opinion. "
   ]
  },
  {
   "cell_type": "code",
   "execution_count": null,
   "metadata": {},
   "outputs": [],
   "source": [
    "def opinion_dynamics_experiment(G, F, x0, beta, **kwargs):\n",
    "    \n",
    "    model = OpinionModel(G, OpinionAgent, x0 = x0, beta = beta, F = F, **kwargs)\n",
    "\n",
    "    for i in range(1000):\n",
    "        model.step()\n",
    "\n",
    "    report = model.collector.get_agent_vars_dataframe().reset_index()\n",
    "\n",
    "    fig = sns.lineplot(data = report, \n",
    "                       x = \"Step\", \n",
    "                       y = \"Opinion\", \n",
    "                       hue = \"AgentID\", \n",
    "                       legend = False)\n",
    "\n",
    "    plt.gca().set_xscale(\"log\")"
   ]
  },
  {
   "cell_type": "markdown",
   "metadata": {},
   "source": [
    "Ok, experiment time! "
   ]
  },
  {
   "cell_type": "code",
   "execution_count": null,
   "metadata": {},
   "outputs": [],
   "source": [
    "G = nx.les_miserables_graph()\n",
    "n = len(G.nodes())\n",
    "x0 = np.sort(2*np.random.rand(n) - 1)\n",
    "beta = 0.5*np.ones(n)\n",
    "    \n",
    "opinion_dynamics_experiment(G, F_consensus, x0, beta)"
   ]
  },
  {
   "cell_type": "markdown",
   "metadata": {},
   "source": [
    "As predicted by theory, all the nodes eventually converge to consensus --- they all have the same opinion. \n",
    "\n",
    "One way to disrupt this behavior is by making some of the nodes *stubborn*, so that they never change their opinions. Let's try this: "
   ]
  },
  {
   "cell_type": "code",
   "execution_count": null,
   "metadata": {},
   "outputs": [],
   "source": [
    "beta[2]  = 0\n",
    "beta[-1] = 0\n",
    "\n",
    "opinion_dynamics_experiment(G, F_consensus, x0, beta)"
   ]
  },
  {
   "cell_type": "markdown",
   "metadata": {},
   "source": [
    "This time, no consensus is reached, although the nodes do still tend to group together.  "
   ]
  },
  {
   "cell_type": "markdown",
   "metadata": {},
   "source": [
    "In the *bounded confidence* model, nodes only interact with other nodes that are close to them in opinion space. To implement this, we just need to choose a different update function $F$. \n",
    "\n",
    "Because in BC models it is possible that eventually a node has no neighbors with whom it can interact, we explicit state that, in this case, no update occurs. "
   ]
  },
  {
   "cell_type": "code",
   "execution_count": null,
   "metadata": {},
   "outputs": [],
   "source": [
    "def F_bounded_confidence(center, neighbors, beta = 1, c = np.Inf):\n",
    "    # TO FILL IN"
   ]
  },
  {
   "cell_type": "markdown",
   "metadata": {},
   "source": [
    "Ok, experiment time: "
   ]
  },
  {
   "cell_type": "code",
   "execution_count": null,
   "metadata": {},
   "outputs": [],
   "source": [
    "x0 = np.sort(2*np.random.rand(n) - 1)\n",
    "beta = 0.5*np.ones(n)\n",
    "opinion_dynamics_experiment(G, F_bounded_confidence, x0, beta, c = 0.4)"
   ]
  }
 ],
 "metadata": {
  "interpreter": {
   "hash": "33f22fb245a0cb1da3e9fd94033b76d9c7261952045c7c40a897050a41b97b67"
  },
  "kernelspec": {
   "display_name": "Python [conda env:teaching]",
   "language": "python",
   "name": "conda-env-teaching-py"
  },
  "language_info": {
   "codemirror_mode": {
    "name": "ipython",
    "version": 3
   },
   "file_extension": ".py",
   "mimetype": "text/x-python",
   "name": "python",
   "nbconvert_exporter": "python",
   "pygments_lexer": "ipython3",
   "version": "3.8.13"
  }
 },
 "nbformat": 4,
 "nbformat_minor": 2
}
